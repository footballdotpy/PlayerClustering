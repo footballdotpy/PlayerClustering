{
 "cells": [
  {
   "cell_type": "code",
   "execution_count": 1,
   "outputs": [],
   "source": [
    "import pandas as pd\n",
    "from sklearn.preprocessing import LabelEncoder\n",
    "\n",
    "df = pd.read_html('https://fbref.com/en/comps/Big5/defense/players/Big-5-European-Leagues-Stats',flavor='lxml')[0]\n",
    "\n",
    "# Get the second level values as a list\n",
    "second_level_values = df.columns.get_level_values(1).tolist()\n",
    "\n",
    "\n",
    "df.columns = second_level_values\n",
    "\n",
    "# Drop rows that contain column names as row values and goalkeepers\n",
    "df = df[~df.apply(lambda row: row.isin(['Rk','GK'])).any(axis=1)]\n",
    "\n",
    "\n",
    "# clean the age column\n",
    "\n",
    "df['Age'] = df['Age'].str.split(\"-\").str[0]\n",
    "\n",
    "# calculate the minutes played\n",
    "\n",
    "df['Minutes'] = df['90s'].astype(float) * 90\n",
    "\n",
    "# drop nas which represent no game time\n",
    "\n",
    "df = df.dropna()\n",
    "\n",
    "\n",
    "df = df.loc[df['Minutes']>=1260] # 14 games\n",
    "\n",
    "\n",
    "# Recode position values using label encoder\n",
    "\n",
    "le = LabelEncoder()\n",
    "\n",
    "df['Pos'] = le.fit_transform(df['Pos'])\n",
    "\n",
    "# Recode league values using label encoder\n",
    "le_comps = LabelEncoder()\n",
    "df['Comp'] = le_comps.fit_transform(df['Comp'])\n",
    "\n",
    "# Get the dictionary of label encoder's encoded values to original values\n",
    "label_encoding_dict = {label: original_value for label, original_value in zip(le.transform(le.classes_), le.classes_)}\n",
    "\n",
    "# Get the dictionary of label encoder's encoded values to original values\n",
    "label_encoding_comp_dict = {label: original_value for label, original_value in zip(le_comps.transform(le_comps.classes_), le_comps.classes_)}"
   ],
   "metadata": {
    "collapsed": false,
    "pycharm": {
     "name": "#%%\n"
    }
   }
  },
  {
   "cell_type": "code",
   "execution_count": 2,
   "outputs": [
    {
     "data": {
      "text/plain": "{0: 'DF',\n 1: 'DF,FW',\n 2: 'DF,MF',\n 3: 'FW',\n 4: 'FW,DF',\n 5: 'FW,MF',\n 6: 'MF',\n 7: 'MF,DF',\n 8: 'MF,FW'}"
     },
     "execution_count": 2,
     "metadata": {},
     "output_type": "execute_result"
    }
   ],
   "source": [
    "label_encoding_dict"
   ],
   "metadata": {
    "collapsed": false,
    "pycharm": {
     "name": "#%%\n"
    }
   }
  },
  {
   "cell_type": "code",
   "execution_count": 3,
   "outputs": [
    {
     "data": {
      "text/plain": "{0: 'de Bundesliga',\n 1: 'eng Premier League',\n 2: 'es La Liga',\n 3: 'fr Ligue 1',\n 4: 'it Serie A'}"
     },
     "execution_count": 3,
     "metadata": {},
     "output_type": "execute_result"
    }
   ],
   "source": [
    "label_encoding_comp_dict"
   ],
   "metadata": {
    "collapsed": false,
    "pycharm": {
     "name": "#%%\n"
    }
   }
  },
  {
   "cell_type": "code",
   "execution_count": 4,
   "outputs": [],
   "source": [
    "df = df.drop(['Squad','Nation','Rk','Born','Matches'],axis=1)"
   ],
   "metadata": {
    "collapsed": false,
    "pycharm": {
     "name": "#%%\n"
    }
   }
  },
  {
   "cell_type": "code",
   "execution_count": 5,
   "outputs": [],
   "source": [
    "df = df.sort_values('Minutes',ascending=False)"
   ],
   "metadata": {
    "collapsed": false,
    "pycharm": {
     "name": "#%%\n"
    }
   }
  },
  {
   "cell_type": "code",
   "execution_count": 6,
   "outputs": [
    {
     "data": {
      "text/plain": "                Player  Pos  Comp Age   90s Tkl TklW Def 3rd Mid 3rd Att 3rd  \\\n2348           Rodrigo    5     2  22  17.8  16   11       5       9       2   \n1093  Nicolás González    5     4  24  15.0  17   10       3      10       4   \n1908       Álex Moreno    0     1  29  14.8  23   14      15       5       3   \n1884       Terem Moffi    3     3  23  14.8  12    6       0       6       6   \n2664     Issiaga Sylla    0     3  28  14.5  28   16      19       8       1   \n\n      ...  Tkl% Lost Blocks Sh Pass Int Tkl+Int Clr Err Minutes  \n2348  ...  47.1    9     10  0   10  13      29   2   0  1602.0  \n1093  ...  31.3   11     14  0   14   4      21   6   0  1350.0  \n1908  ...  36.1   23     18  3   15   7      30  37   2  1332.0  \n1884  ...  16.7   10      3  0    3   2      14   5   0  1332.0  \n2664  ...  48.4   16     19  3   16  32      60  35   0  1305.0  \n\n[5 rows x 22 columns]",
      "text/html": "<div>\n<style scoped>\n    .dataframe tbody tr th:only-of-type {\n        vertical-align: middle;\n    }\n\n    .dataframe tbody tr th {\n        vertical-align: top;\n    }\n\n    .dataframe thead th {\n        text-align: right;\n    }\n</style>\n<table border=\"1\" class=\"dataframe\">\n  <thead>\n    <tr style=\"text-align: right;\">\n      <th></th>\n      <th>Player</th>\n      <th>Pos</th>\n      <th>Comp</th>\n      <th>Age</th>\n      <th>90s</th>\n      <th>Tkl</th>\n      <th>TklW</th>\n      <th>Def 3rd</th>\n      <th>Mid 3rd</th>\n      <th>Att 3rd</th>\n      <th>...</th>\n      <th>Tkl%</th>\n      <th>Lost</th>\n      <th>Blocks</th>\n      <th>Sh</th>\n      <th>Pass</th>\n      <th>Int</th>\n      <th>Tkl+Int</th>\n      <th>Clr</th>\n      <th>Err</th>\n      <th>Minutes</th>\n    </tr>\n  </thead>\n  <tbody>\n    <tr>\n      <th>2348</th>\n      <td>Rodrigo</td>\n      <td>5</td>\n      <td>2</td>\n      <td>22</td>\n      <td>17.8</td>\n      <td>16</td>\n      <td>11</td>\n      <td>5</td>\n      <td>9</td>\n      <td>2</td>\n      <td>...</td>\n      <td>47.1</td>\n      <td>9</td>\n      <td>10</td>\n      <td>0</td>\n      <td>10</td>\n      <td>13</td>\n      <td>29</td>\n      <td>2</td>\n      <td>0</td>\n      <td>1602.0</td>\n    </tr>\n    <tr>\n      <th>1093</th>\n      <td>Nicolás González</td>\n      <td>5</td>\n      <td>4</td>\n      <td>24</td>\n      <td>15.0</td>\n      <td>17</td>\n      <td>10</td>\n      <td>3</td>\n      <td>10</td>\n      <td>4</td>\n      <td>...</td>\n      <td>31.3</td>\n      <td>11</td>\n      <td>14</td>\n      <td>0</td>\n      <td>14</td>\n      <td>4</td>\n      <td>21</td>\n      <td>6</td>\n      <td>0</td>\n      <td>1350.0</td>\n    </tr>\n    <tr>\n      <th>1908</th>\n      <td>Álex Moreno</td>\n      <td>0</td>\n      <td>1</td>\n      <td>29</td>\n      <td>14.8</td>\n      <td>23</td>\n      <td>14</td>\n      <td>15</td>\n      <td>5</td>\n      <td>3</td>\n      <td>...</td>\n      <td>36.1</td>\n      <td>23</td>\n      <td>18</td>\n      <td>3</td>\n      <td>15</td>\n      <td>7</td>\n      <td>30</td>\n      <td>37</td>\n      <td>2</td>\n      <td>1332.0</td>\n    </tr>\n    <tr>\n      <th>1884</th>\n      <td>Terem Moffi</td>\n      <td>3</td>\n      <td>3</td>\n      <td>23</td>\n      <td>14.8</td>\n      <td>12</td>\n      <td>6</td>\n      <td>0</td>\n      <td>6</td>\n      <td>6</td>\n      <td>...</td>\n      <td>16.7</td>\n      <td>10</td>\n      <td>3</td>\n      <td>0</td>\n      <td>3</td>\n      <td>2</td>\n      <td>14</td>\n      <td>5</td>\n      <td>0</td>\n      <td>1332.0</td>\n    </tr>\n    <tr>\n      <th>2664</th>\n      <td>Issiaga Sylla</td>\n      <td>0</td>\n      <td>3</td>\n      <td>28</td>\n      <td>14.5</td>\n      <td>28</td>\n      <td>16</td>\n      <td>19</td>\n      <td>8</td>\n      <td>1</td>\n      <td>...</td>\n      <td>48.4</td>\n      <td>16</td>\n      <td>19</td>\n      <td>3</td>\n      <td>16</td>\n      <td>32</td>\n      <td>60</td>\n      <td>35</td>\n      <td>0</td>\n      <td>1305.0</td>\n    </tr>\n  </tbody>\n</table>\n<p>5 rows × 22 columns</p>\n</div>"
     },
     "execution_count": 6,
     "metadata": {},
     "output_type": "execute_result"
    }
   ],
   "source": [
    "duplicate_players = df[df.duplicated('Player')]\n",
    "duplicate_players"
   ],
   "metadata": {
    "collapsed": false,
    "pycharm": {
     "name": "#%%\n"
    }
   }
  },
  {
   "cell_type": "code",
   "execution_count": 7,
   "outputs": [
    {
     "data": {
      "text/plain": "           Player  Pos  Comp Age   90s Tkl TklW Def 3rd Mid 3rd Att 3rd  ...  \\\n1885  Terem Moffi    3     3  23  15.4   8    5       1       4       3  ...   \n1884  Terem Moffi    3     3  23  14.8  12    6       0       6       6  ...   \n\n      Tkl% Lost Blocks Sh Pass Int Tkl+Int Clr Err Minutes  \n1885  60.0    2     11  3    8   3      11  10   0  1386.0  \n1884  16.7   10      3  0    3   2      14   5   0  1332.0  \n\n[2 rows x 22 columns]",
      "text/html": "<div>\n<style scoped>\n    .dataframe tbody tr th:only-of-type {\n        vertical-align: middle;\n    }\n\n    .dataframe tbody tr th {\n        vertical-align: top;\n    }\n\n    .dataframe thead th {\n        text-align: right;\n    }\n</style>\n<table border=\"1\" class=\"dataframe\">\n  <thead>\n    <tr style=\"text-align: right;\">\n      <th></th>\n      <th>Player</th>\n      <th>Pos</th>\n      <th>Comp</th>\n      <th>Age</th>\n      <th>90s</th>\n      <th>Tkl</th>\n      <th>TklW</th>\n      <th>Def 3rd</th>\n      <th>Mid 3rd</th>\n      <th>Att 3rd</th>\n      <th>...</th>\n      <th>Tkl%</th>\n      <th>Lost</th>\n      <th>Blocks</th>\n      <th>Sh</th>\n      <th>Pass</th>\n      <th>Int</th>\n      <th>Tkl+Int</th>\n      <th>Clr</th>\n      <th>Err</th>\n      <th>Minutes</th>\n    </tr>\n  </thead>\n  <tbody>\n    <tr>\n      <th>1885</th>\n      <td>Terem Moffi</td>\n      <td>3</td>\n      <td>3</td>\n      <td>23</td>\n      <td>15.4</td>\n      <td>8</td>\n      <td>5</td>\n      <td>1</td>\n      <td>4</td>\n      <td>3</td>\n      <td>...</td>\n      <td>60.0</td>\n      <td>2</td>\n      <td>11</td>\n      <td>3</td>\n      <td>8</td>\n      <td>3</td>\n      <td>11</td>\n      <td>10</td>\n      <td>0</td>\n      <td>1386.0</td>\n    </tr>\n    <tr>\n      <th>1884</th>\n      <td>Terem Moffi</td>\n      <td>3</td>\n      <td>3</td>\n      <td>23</td>\n      <td>14.8</td>\n      <td>12</td>\n      <td>6</td>\n      <td>0</td>\n      <td>6</td>\n      <td>6</td>\n      <td>...</td>\n      <td>16.7</td>\n      <td>10</td>\n      <td>3</td>\n      <td>0</td>\n      <td>3</td>\n      <td>2</td>\n      <td>14</td>\n      <td>5</td>\n      <td>0</td>\n      <td>1332.0</td>\n    </tr>\n  </tbody>\n</table>\n<p>2 rows × 22 columns</p>\n</div>"
     },
     "execution_count": 7,
     "metadata": {},
     "output_type": "execute_result"
    }
   ],
   "source": [
    "df.loc[df['Player'] == 'Terem Moffi']"
   ],
   "metadata": {
    "collapsed": false,
    "pycharm": {
     "name": "#%%\n"
    }
   }
  },
  {
   "cell_type": "code",
   "execution_count": 8,
   "outputs": [],
   "source": [
    "df = df.drop_duplicates(['Player'],keep='first')"
   ],
   "metadata": {
    "collapsed": false,
    "pycharm": {
     "name": "#%%\n"
    }
   }
  },
  {
   "cell_type": "markdown",
   "source": [
    "check for duplicates again"
   ],
   "metadata": {
    "collapsed": false,
    "pycharm": {
     "name": "#%% md\n"
    }
   }
  },
  {
   "cell_type": "code",
   "execution_count": 9,
   "outputs": [
    {
     "data": {
      "text/plain": "Empty DataFrame\nColumns: [Player, Pos, Comp, Age, 90s, Tkl, TklW, Def 3rd, Mid 3rd, Att 3rd, Tkl, Att, Tkl%, Lost, Blocks, Sh, Pass, Int, Tkl+Int, Clr, Err, Minutes]\nIndex: []\n\n[0 rows x 22 columns]",
      "text/html": "<div>\n<style scoped>\n    .dataframe tbody tr th:only-of-type {\n        vertical-align: middle;\n    }\n\n    .dataframe tbody tr th {\n        vertical-align: top;\n    }\n\n    .dataframe thead th {\n        text-align: right;\n    }\n</style>\n<table border=\"1\" class=\"dataframe\">\n  <thead>\n    <tr style=\"text-align: right;\">\n      <th></th>\n      <th>Player</th>\n      <th>Pos</th>\n      <th>Comp</th>\n      <th>Age</th>\n      <th>90s</th>\n      <th>Tkl</th>\n      <th>TklW</th>\n      <th>Def 3rd</th>\n      <th>Mid 3rd</th>\n      <th>Att 3rd</th>\n      <th>...</th>\n      <th>Tkl%</th>\n      <th>Lost</th>\n      <th>Blocks</th>\n      <th>Sh</th>\n      <th>Pass</th>\n      <th>Int</th>\n      <th>Tkl+Int</th>\n      <th>Clr</th>\n      <th>Err</th>\n      <th>Minutes</th>\n    </tr>\n  </thead>\n  <tbody>\n  </tbody>\n</table>\n<p>0 rows × 22 columns</p>\n</div>"
     },
     "execution_count": 9,
     "metadata": {},
     "output_type": "execute_result"
    }
   ],
   "source": [
    "duplicate_players = df[df.duplicated('Player')]\n",
    "duplicate_players"
   ],
   "metadata": {
    "collapsed": false,
    "pycharm": {
     "name": "#%%\n"
    }
   }
  },
  {
   "cell_type": "code",
   "execution_count": 11,
   "outputs": [],
   "source": [
    "df.columns = ['Player','Position','League','Age','90s','Players_tackled','Tackles_won','Tackles_def3rd','Tackles_mid3rd','Tackles_att3rd','Dribblers_tackled','Dribblers_challenged',\n",
    "              'Dribbers_tackled%','Challenges_lost','Number_of_blocks','Shots_blocked','Passes_blocked','Interceptions','Number_of_Players_tackles_and_Int','Clearances','Errors_leading_to_shot','Minutes']"
   ],
   "metadata": {
    "collapsed": false,
    "pycharm": {
     "name": "#%%\n"
    }
   }
  },
  {
   "cell_type": "code",
   "execution_count": 12,
   "outputs": [],
   "source": [
    "df.to_csv('clustering_model.csv',index=False)"
   ],
   "metadata": {
    "collapsed": false,
    "pycharm": {
     "name": "#%%\n"
    }
   }
  },
  {
   "cell_type": "code",
   "execution_count": null,
   "outputs": [],
   "source": [],
   "metadata": {
    "collapsed": false,
    "pycharm": {
     "name": "#%%\n"
    }
   }
  }
 ],
 "metadata": {
  "kernelspec": {
   "display_name": "Python 3",
   "language": "python",
   "name": "python3"
  },
  "language_info": {
   "codemirror_mode": {
    "name": "ipython",
    "version": 2
   },
   "file_extension": ".py",
   "mimetype": "text/x-python",
   "name": "python",
   "nbconvert_exporter": "python",
   "pygments_lexer": "ipython2",
   "version": "2.7.6"
  }
 },
 "nbformat": 4,
 "nbformat_minor": 0
}